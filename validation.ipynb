{
 "cells": [
  {
   "cell_type": "code",
   "execution_count": 1,
   "metadata": {},
   "outputs": [
    {
     "name": "stderr",
     "output_type": "stream",
     "text": [
      "C:\\Users\\Home\\AppData\\Local\\Temp\\ipykernel_50104\\980680391.py:4: TqdmWarning: IProgress not found. Please update jupyter and ipywidgets. See https://ipywidgets.readthedocs.io/en/stable/user_install.html\n",
      "  from tqdm.autonotebook import tqdm\n"
     ]
    }
   ],
   "source": [
    "from toolkits.datasets import ShortTermTrafficDataset, load_next_30min\n",
    "from toolkits.datapreparing import genSamples, groupVDs\n",
    "from torch.utils.data import DataLoader\n",
    "from tqdm.autonotebook import tqdm\n",
    "from datetime import datetime\n",
    "import numpy as np\n",
    "import pandas as pd\n",
    "import feather\n",
    "import torch\n",
    "import torch.nn as nn\n",
    "import os"
   ]
  },
  {
   "cell_type": "code",
   "execution_count": 2,
   "metadata": {},
   "outputs": [],
   "source": [
    "class CNNModel(nn.Module):\n",
    "    def __init__(self) -> None:\n",
    "        super().__init__()\n",
    "        self.cnnLayer = nn.Sequential(\n",
    "            nn.Conv2d(in_channels=5, out_channels=16, kernel_size=(2,2), stride=1, padding=0),\n",
    "            nn.BatchNorm2d(16),\n",
    "            nn.ReLU(),\n",
    "            nn.MaxPool2d(1, 1, 0),\n",
    "\n",
    "            nn.Conv2d(in_channels=16, out_channels=32, kernel_size=(2,2), stride=1, padding=0),\n",
    "            nn.BatchNorm2d(32),\n",
    "            nn.ReLU(),\n",
    "            nn.MaxPool2d(1, 1, 0),\n",
    "        )\n",
    "\n",
    "        self.fcLayer = nn.Sequential(\n",
    "            nn.Linear(32 * 1 * 4, 128),\n",
    "            nn.ReLU(),\n",
    "            nn.Linear(128, 128),\n",
    "            nn.ReLU(),\n",
    "            nn.Linear(128, 128),\n",
    "            nn.ReLU(),\n",
    "            nn.Linear(128, 128),\n",
    "            nn.ReLU(),\n",
    "            nn.Linear(128, 128),\n",
    "            nn.ReLU(),\n",
    "            nn.Linear(128, 128),\n",
    "            nn.ReLU(),\n",
    "            nn.Linear(128, 128),\n",
    "            nn.ReLU(),\n",
    "            nn.Linear(128, 128),\n",
    "            nn.ReLU(),\n",
    "            nn.Linear(128, 128),\n",
    "            nn.ReLU(),\n",
    "            nn.Linear(128, 128),\n",
    "            nn.ReLU(),\n",
    "            nn.Linear(128, 12),\n",
    "            nn.Sigmoid(),\n",
    "        )\n",
    "\n",
    "        self.device = 'cuda' if torch.cuda.is_available() else 'cpu'\n",
    "        self.to(self.device)\n",
    "\n",
    "    def forward(self, x) -> torch.Tensor:\n",
    "        x = self.cnnLayer(x)\n",
    "        x = x.flatten(1)\n",
    "        x = self.fcLayer(x)\n",
    "        return x\n",
    "\n",
    "    def save(self, ckpt_dir: str) -> None:\n",
    "        torch.save(self.state_dict(), os.path.join(ckpt_dir, 'model.pth'))\n",
    "\n",
    "    def load(self, ckpt_dir: str) -> None:\n",
    "        self.load_state_dict(torch.load(os.path.join(ckpt_dir, 'model.pth')))"
   ]
  },
  {
   "cell_type": "code",
   "execution_count": 3,
   "metadata": {},
   "outputs": [],
   "source": [
    "totalDateRange = list(map(lambda x: str(x)[:10], pd.date_range('2024-01-01', '2024-02-25')))\n",
    "lunarNewYear = list(map(lambda x: str(x)[:10], pd.date_range('2024-02-08', '2024-02-14')))\n",
    "natlHoliday = ['2024-01-01']\n",
    "workSat = '2024-02-17'\n",
    "\n",
    "remainDate = list(set(totalDateRange) - set(lunarNewYear) - set(natlHoliday))\n",
    "weekends = [x for x in remainDate if datetime.strptime(x, '%Y-%m-%d').isoweekday() > 5 and x != workSat]\n",
    "weekdays = [x for x in remainDate if datetime.strptime(x, '%Y-%m-%d').isoweekday() <= 5] + [workSat]\n",
    "\n",
    "weekends = pd.Series(weekends).sort_values().to_list()\n",
    "weekdays = pd.Series(weekdays).sort_values().to_list()"
   ]
  },
  {
   "cell_type": "code",
   "execution_count": 6,
   "metadata": {},
   "outputs": [],
   "source": [
    "dateTypes = ['weekdays', 'weekends', 'natlHoliday', 'lunarNewYear']\n",
    "directions = ['S', 'N']\n",
    "roadSection = [{'Start': '南港系統', 'End': '石碇'},\n",
    "               {'Start': '石碇', 'End': '坪林'},\n",
    "               {'Start': '坪林', 'End': '頭城'},\n",
    "               {'Start': '頭城', 'End': '宜蘭'},\n",
    "               {'Start': '宜蘭', 'End': '羅東'},\n",
    "               {'Start': '羅東', 'End': '蘇澳'}]"
   ]
  },
  {
   "cell_type": "code",
   "execution_count": 7,
   "metadata": {},
   "outputs": [
    {
     "name": "stderr",
     "output_type": "stream",
     "text": [
      "100%|██████████| 1/1 [00:00<00:00,  1.79it/s]\n"
     ]
    },
    {
     "name": "stdout",
     "output_type": "stream",
     "text": [
      "==============================================================\n",
      "DateType: natlHoliday | Direction: S | Section: {'Start': '南港系統', 'End': '石碇'}\n",
      "MAPE (speed): 1.91%\n",
      "MAPE (volume): 1.95%\n",
      "==============================================================\n",
      "\n"
     ]
    },
    {
     "name": "stderr",
     "output_type": "stream",
     "text": [
      "100%|██████████| 3/3 [00:02<00:00,  1.42it/s]\n"
     ]
    },
    {
     "name": "stdout",
     "output_type": "stream",
     "text": [
      "==============================================================\n",
      "DateType: natlHoliday | Direction: S | Section: {'Start': '石碇', 'End': '坪林'}\n",
      "MAPE (speed): 3.51%\n",
      "MAPE (volume): 3.50%\n",
      "==============================================================\n",
      "\n"
     ]
    },
    {
     "name": "stderr",
     "output_type": "stream",
     "text": [
      "100%|██████████| 5/5 [00:03<00:00,  1.46it/s]\n"
     ]
    },
    {
     "name": "stdout",
     "output_type": "stream",
     "text": [
      "==============================================================\n",
      "DateType: natlHoliday | Direction: S | Section: {'Start': '坪林', 'End': '頭城'}\n",
      "MAPE (speed): 2.79%\n",
      "MAPE (volume): 2.91%\n",
      "==============================================================\n",
      "\n"
     ]
    },
    {
     "name": "stderr",
     "output_type": "stream",
     "text": [
      "100%|██████████| 1/1 [00:00<00:00,  4.10it/s]\n"
     ]
    },
    {
     "name": "stdout",
     "output_type": "stream",
     "text": [
      "==============================================================\n",
      "DateType: natlHoliday | Direction: S | Section: {'Start': '頭城', 'End': '宜蘭'}\n",
      "MAPE (speed): 10.83%\n",
      "MAPE (volume): 10.86%\n",
      "==============================================================\n",
      "\n"
     ]
    },
    {
     "name": "stderr",
     "output_type": "stream",
     "text": [
      "100%|██████████| 1/1 [00:00<00:00,  1.66it/s]\n"
     ]
    },
    {
     "name": "stdout",
     "output_type": "stream",
     "text": [
      "==============================================================\n",
      "DateType: natlHoliday | Direction: S | Section: {'Start': '宜蘭', 'End': '羅東'}\n",
      "MAPE (speed): 4.21%\n",
      "MAPE (volume): 4.27%\n",
      "==============================================================\n",
      "\n"
     ]
    },
    {
     "name": "stderr",
     "output_type": "stream",
     "text": [
      "100%|██████████| 1/1 [00:00<00:00,  4.13it/s]\n"
     ]
    },
    {
     "name": "stdout",
     "output_type": "stream",
     "text": [
      "==============================================================\n",
      "DateType: natlHoliday | Direction: S | Section: {'Start': '羅東', 'End': '蘇澳'}\n",
      "MAPE (speed): 9.68%\n",
      "MAPE (volume): 9.95%\n",
      "==============================================================\n",
      "\n"
     ]
    },
    {
     "name": "stderr",
     "output_type": "stream",
     "text": [
      "100%|██████████| 1/1 [00:00<00:00,  1.42it/s]\n"
     ]
    },
    {
     "name": "stdout",
     "output_type": "stream",
     "text": [
      "==============================================================\n",
      "DateType: natlHoliday | Direction: N | Section: {'Start': '南港系統', 'End': '石碇'}\n",
      "MAPE (speed): 4.79%\n",
      "MAPE (volume): 5.47%\n",
      "==============================================================\n",
      "\n"
     ]
    },
    {
     "name": "stderr",
     "output_type": "stream",
     "text": [
      "100%|██████████| 2/2 [00:01<00:00,  1.44it/s]\n"
     ]
    },
    {
     "name": "stdout",
     "output_type": "stream",
     "text": [
      "==============================================================\n",
      "DateType: natlHoliday | Direction: N | Section: {'Start': '石碇', 'End': '坪林'}\n",
      "MAPE (speed): 4.98%\n",
      "MAPE (volume): 5.71%\n",
      "==============================================================\n",
      "\n"
     ]
    },
    {
     "name": "stderr",
     "output_type": "stream",
     "text": [
      "100%|██████████| 5/5 [00:03<00:00,  1.47it/s]\n"
     ]
    },
    {
     "name": "stdout",
     "output_type": "stream",
     "text": [
      "==============================================================\n",
      "DateType: natlHoliday | Direction: N | Section: {'Start': '坪林', 'End': '頭城'}\n",
      "MAPE (speed): 8.75%\n",
      "MAPE (volume): 12.22%\n",
      "==============================================================\n",
      "\n"
     ]
    },
    {
     "name": "stderr",
     "output_type": "stream",
     "text": [
      "100%|██████████| 2/2 [00:01<00:00,  1.45it/s]\n"
     ]
    },
    {
     "name": "stdout",
     "output_type": "stream",
     "text": [
      "==============================================================\n",
      "DateType: natlHoliday | Direction: N | Section: {'Start': '頭城', 'End': '宜蘭'}\n",
      "MAPE (speed): 18.40%\n",
      "MAPE (volume): 27.46%\n",
      "==============================================================\n",
      "\n"
     ]
    },
    {
     "name": "stderr",
     "output_type": "stream",
     "text": [
      "100%|██████████| 1/1 [00:00<00:00,  2.38it/s]\n"
     ]
    },
    {
     "name": "stdout",
     "output_type": "stream",
     "text": [
      "==============================================================\n",
      "DateType: natlHoliday | Direction: N | Section: {'Start': '宜蘭', 'End': '羅東'}\n",
      "MAPE (speed): 3.41%\n",
      "MAPE (volume): 3.60%\n",
      "==============================================================\n",
      "\n"
     ]
    },
    {
     "name": "stderr",
     "output_type": "stream",
     "text": [
      "100%|██████████| 1/1 [00:00<00:00,  2.60it/s]\n"
     ]
    },
    {
     "name": "stdout",
     "output_type": "stream",
     "text": [
      "==============================================================\n",
      "DateType: natlHoliday | Direction: N | Section: {'Start': '羅東', 'End': '蘇澳'}\n",
      "MAPE (speed): 9.42%\n",
      "MAPE (volume): 9.42%\n",
      "==============================================================\n",
      "\n"
     ]
    },
    {
     "name": "stderr",
     "output_type": "stream",
     "text": [
      "100%|██████████| 6/6 [00:04<00:00,  1.43it/s]\n"
     ]
    },
    {
     "name": "stdout",
     "output_type": "stream",
     "text": [
      "==============================================================\n",
      "DateType: lunarNewYear | Direction: S | Section: {'Start': '南港系統', 'End': '石碇'}\n",
      "MAPE (speed): 3.89%\n",
      "MAPE (volume): 4.85%\n",
      "==============================================================\n",
      "\n"
     ]
    },
    {
     "name": "stderr",
     "output_type": "stream",
     "text": [
      "100%|██████████| 19/19 [00:12<00:00,  1.48it/s]\n"
     ]
    },
    {
     "name": "stdout",
     "output_type": "stream",
     "text": [
      "==============================================================\n",
      "DateType: lunarNewYear | Direction: S | Section: {'Start': '石碇', 'End': '坪林'}\n",
      "MAPE (speed): 5.64%\n",
      "MAPE (volume): 5.99%\n",
      "==============================================================\n",
      "\n"
     ]
    },
    {
     "name": "stderr",
     "output_type": "stream",
     "text": [
      "100%|██████████| 38/38 [00:26<00:00,  1.41it/s]\n"
     ]
    },
    {
     "name": "stdout",
     "output_type": "stream",
     "text": [
      "==============================================================\n",
      "DateType: lunarNewYear | Direction: S | Section: {'Start': '坪林', 'End': '頭城'}\n",
      "MAPE (speed): 3.98%\n",
      "MAPE (volume): 4.81%\n",
      "==============================================================\n",
      "\n"
     ]
    },
    {
     "name": "stderr",
     "output_type": "stream",
     "text": [
      "100%|██████████| 2/2 [00:01<00:00,  1.51it/s]\n"
     ]
    },
    {
     "name": "stdout",
     "output_type": "stream",
     "text": [
      "==============================================================\n",
      "DateType: lunarNewYear | Direction: S | Section: {'Start': '頭城', 'End': '宜蘭'}\n",
      "MAPE (speed): 5.74%\n",
      "MAPE (volume): 6.01%\n",
      "==============================================================\n",
      "\n"
     ]
    },
    {
     "name": "stderr",
     "output_type": "stream",
     "text": [
      "100%|██████████| 6/6 [00:04<00:00,  1.47it/s]\n"
     ]
    },
    {
     "name": "stdout",
     "output_type": "stream",
     "text": [
      "==============================================================\n",
      "DateType: lunarNewYear | Direction: S | Section: {'Start': '宜蘭', 'End': '羅東'}\n",
      "MAPE (speed): 2.92%\n",
      "MAPE (volume): 2.95%\n",
      "==============================================================\n",
      "\n"
     ]
    },
    {
     "name": "stderr",
     "output_type": "stream",
     "text": [
      "100%|██████████| 2/2 [00:01<00:00,  1.43it/s]\n"
     ]
    },
    {
     "name": "stdout",
     "output_type": "stream",
     "text": [
      "==============================================================\n",
      "DateType: lunarNewYear | Direction: S | Section: {'Start': '羅東', 'End': '蘇澳'}\n",
      "MAPE (speed): 6.59%\n",
      "MAPE (volume): 6.66%\n",
      "==============================================================\n",
      "\n"
     ]
    },
    {
     "name": "stderr",
     "output_type": "stream",
     "text": [
      "100%|██████████| 8/8 [00:05<00:00,  1.42it/s]\n"
     ]
    },
    {
     "name": "stdout",
     "output_type": "stream",
     "text": [
      "==============================================================\n",
      "DateType: lunarNewYear | Direction: N | Section: {'Start': '南港系統', 'End': '石碇'}\n",
      "MAPE (speed): 4.26%\n",
      "MAPE (volume): 4.58%\n",
      "==============================================================\n",
      "\n"
     ]
    },
    {
     "name": "stderr",
     "output_type": "stream",
     "text": [
      "100%|██████████| 15/15 [00:10<00:00,  1.40it/s]\n"
     ]
    },
    {
     "name": "stdout",
     "output_type": "stream",
     "text": [
      "==============================================================\n",
      "DateType: lunarNewYear | Direction: N | Section: {'Start': '石碇', 'End': '坪林'}\n",
      "MAPE (speed): 3.67%\n",
      "MAPE (volume): 3.87%\n",
      "==============================================================\n",
      "\n"
     ]
    },
    {
     "name": "stderr",
     "output_type": "stream",
     "text": [
      "100%|██████████| 38/38 [00:26<00:00,  1.41it/s]\n"
     ]
    },
    {
     "name": "stdout",
     "output_type": "stream",
     "text": [
      "==============================================================\n",
      "DateType: lunarNewYear | Direction: N | Section: {'Start': '坪林', 'End': '頭城'}\n",
      "MAPE (speed): 7.29%\n",
      "MAPE (volume): 9.49%\n",
      "==============================================================\n",
      "\n"
     ]
    },
    {
     "name": "stderr",
     "output_type": "stream",
     "text": [
      "100%|██████████| 13/13 [00:09<00:00,  1.41it/s]\n"
     ]
    },
    {
     "name": "stdout",
     "output_type": "stream",
     "text": [
      "==============================================================\n",
      "DateType: lunarNewYear | Direction: N | Section: {'Start': '頭城', 'End': '宜蘭'}\n",
      "MAPE (speed): 12.85%\n",
      "MAPE (volume): 18.24%\n",
      "==============================================================\n",
      "\n"
     ]
    },
    {
     "name": "stderr",
     "output_type": "stream",
     "text": [
      "100%|██████████| 4/4 [00:02<00:00,  1.38it/s]\n"
     ]
    },
    {
     "name": "stdout",
     "output_type": "stream",
     "text": [
      "==============================================================\n",
      "DateType: lunarNewYear | Direction: N | Section: {'Start': '宜蘭', 'End': '羅東'}\n",
      "MAPE (speed): 3.92%\n",
      "MAPE (volume): 3.95%\n",
      "==============================================================\n",
      "\n"
     ]
    },
    {
     "name": "stderr",
     "output_type": "stream",
     "text": [
      "100%|██████████| 4/4 [00:02<00:00,  1.47it/s]"
     ]
    },
    {
     "name": "stdout",
     "output_type": "stream",
     "text": [
      "==============================================================\n",
      "DateType: lunarNewYear | Direction: N | Section: {'Start': '羅東', 'End': '蘇澳'}\n",
      "MAPE (speed): 10.25%\n",
      "MAPE (volume): 10.42%\n",
      "==============================================================\n",
      "\n"
     ]
    },
    {
     "name": "stderr",
     "output_type": "stream",
     "text": [
      "\n"
     ]
    }
   ],
   "source": [
    "for datetype in dateTypes:\n",
    "    df = feather.read_dataframe(f\"./nfb2024/{datetype}/{datetype}.feather\")\n",
    "    for direct in directions:\n",
    "        for section in roadSection:\n",
    "            filtDf = df.loc[\n",
    "                (df['RoadDirection']==direct) &\\\n",
    "                (df['Start'].str.contains(section['Start'])) &\\\n",
    "                (df['End'].str.contains(section['End']))\n",
    "            ].reset_index(drop=True)\n",
    "\n",
    "            speedCollection, volCollection, occCollection, laneCollection, tunnelCollection =\\\n",
    "                [], [], [], [], []\n",
    "            vdGrps = groupVDs(filtDf, each=3)\n",
    "            for groupKey in vdGrps.keys():\n",
    "                speeds, vols, occs, lanes, tunnels = genSamples(filtDf, vdGrps, groupKey,\n",
    "                                                                each=3, preDuration=30, postDuration=30)\n",
    "                speedCollection += speeds\n",
    "                volCollection += vols\n",
    "                occCollection += occs\n",
    "                laneCollection += lanes\n",
    "                tunnelCollection += tunnels\n",
    "\n",
    "            # Create Dataset\n",
    "            validDataset = ShortTermTrafficDataset(speed_data=speedCollection, volume_data=volCollection, occupy_data=occCollection,\n",
    "                                       lane_data=laneCollection, tunnel_data=tunnelCollection, load_ckpt=False, mode='valid',\n",
    "                                       ckpt_dir='../hwyTrafficPred/toolkits/next_half_hour_data')\n",
    "            \n",
    "            valDataLoader = DataLoader(validDataset, batch_size=1024, shuffle=False)\n",
    "            model = CNNModel()\n",
    "            model.load('./model/')\n",
    "            model.eval()\n",
    "\n",
    "            speed_records = []\n",
    "            volume_records = []\n",
    "\n",
    "            for batch in tqdm(valDataLoader):\n",
    "                X, y = batch\n",
    "                with torch.no_grad():\n",
    "                    logits = model(X.to(model.device))\n",
    "                label_speeds = np.array(y)[:,0] * 100\n",
    "                label_volumes = np.array(y)[:,1] * 250\n",
    "                pred_speeds = np.array(logits)[:,0] * 100\n",
    "                pred_volumes = np.array(logits)[:,1] * 250\n",
    "\n",
    "                # filt valid indices\n",
    "                indices_speeds = np.where(label_speeds!=0)[0]\n",
    "                indices_volumes = np.where(label_volumes!=0)[0]\n",
    "\n",
    "                label_speeds = label_speeds[indices_speeds]\n",
    "                label_volumes = label_volumes[indices_volumes]\n",
    "                pred_speeds = pred_speeds[indices_speeds]\n",
    "                pred_volumes = pred_volumes[indices_volumes]\n",
    "\n",
    "                speed_records.append((np.abs(pred_speeds - label_speeds) / label_speeds).mean())\n",
    "                volume_records.append((np.abs(pred_volumes - label_volumes) / label_volumes).mean())\n",
    "\n",
    "            print('==============================================================', end='\\n')\n",
    "            print(f\"DateType: {datetype} | Direction: {direct} | Section: {section}\", end='\\n')\n",
    "            print(f\"MAPE (speed): {np.array(speed_records).mean():.2%}\", end='\\n')\n",
    "            print(f\"MAPE (volume): {np.array(volume_records).mean():.2%}\", end='\\n')\n",
    "            print('==============================================================', end='\\n\\n')"
   ]
  }
 ],
 "metadata": {
  "kernelspec": {
   "display_name": "route-plan",
   "language": "python",
   "name": "python3"
  },
  "language_info": {
   "codemirror_mode": {
    "name": "ipython",
    "version": 3
   },
   "file_extension": ".py",
   "mimetype": "text/x-python",
   "name": "python",
   "nbconvert_exporter": "python",
   "pygments_lexer": "ipython3",
   "version": "3.10.13"
  }
 },
 "nbformat": 4,
 "nbformat_minor": 2
}
