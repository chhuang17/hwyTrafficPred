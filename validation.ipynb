{
 "cells": [
  {
   "cell_type": "code",
   "execution_count": null,
   "metadata": {},
   "outputs": [],
   "source": [
    "from toolkits.datasets import load_next_30min\n",
    "from torch.utils.data import DataLoader\n",
    "from tqdm.autonotebook import tqdm\n",
    "import numpy as np\n",
    "import torch\n",
    "import torch.nn as nn\n",
    "import os"
   ]
  },
  {
   "cell_type": "code",
   "execution_count": 2,
   "metadata": {},
   "outputs": [],
   "source": [
    "class CNNModel(nn.Module):\n",
    "    def __init__(self) -> None:\n",
    "        super().__init__()\n",
    "        self.cnnLayer = nn.Sequential(\n",
    "            nn.Conv2d(in_channels=5, out_channels=16, kernel_size=(2,2), stride=1, padding=0),\n",
    "            nn.BatchNorm2d(16),\n",
    "            nn.ReLU(),\n",
    "            nn.MaxPool2d(1, 1, 0),\n",
    "\n",
    "            nn.Conv2d(in_channels=16, out_channels=32, kernel_size=(2,2), stride=1, padding=0),\n",
    "            nn.BatchNorm2d(32),\n",
    "            nn.ReLU(),\n",
    "            nn.MaxPool2d(1, 1, 0),\n",
    "        )\n",
    "\n",
    "        self.fcLayer = nn.Sequential(\n",
    "            nn.Linear(32 * 1 * 4, 128),\n",
    "            nn.ReLU(),\n",
    "            nn.Linear(128, 128),\n",
    "            nn.ReLU(),\n",
    "            nn.Linear(128, 128),\n",
    "            nn.ReLU(),\n",
    "            nn.Linear(128, 128),\n",
    "            nn.ReLU(),\n",
    "            nn.Linear(128, 128),\n",
    "            nn.ReLU(),\n",
    "            nn.Linear(128, 128),\n",
    "            nn.ReLU(),\n",
    "            nn.Linear(128, 128),\n",
    "            nn.ReLU(),\n",
    "            nn.Linear(128, 128),\n",
    "            nn.ReLU(),\n",
    "            nn.Linear(128, 128),\n",
    "            nn.ReLU(),\n",
    "            nn.Linear(128, 128),\n",
    "            nn.ReLU(),\n",
    "            nn.Linear(128, 12),\n",
    "            nn.Sigmoid(),\n",
    "        )\n",
    "\n",
    "        self.device = 'cuda' if torch.cuda.is_available() else 'cpu'\n",
    "        self.to(self.device)\n",
    "\n",
    "    def forward(self, x) -> torch.Tensor:\n",
    "        x = self.cnnLayer(x)\n",
    "        x = x.flatten(1)\n",
    "        x = self.fcLayer(x)\n",
    "        return x\n",
    "\n",
    "    def save(self, ckpt_dir: str) -> None:\n",
    "        torch.save(self.state_dict(), os.path.join(ckpt_dir, 'model.pth'))\n",
    "\n",
    "    def load(self, ckpt_dir: str) -> None:\n",
    "        self.load_state_dict(torch.load(os.path.join(ckpt_dir, 'model.pth')))"
   ]
  },
  {
   "cell_type": "code",
   "execution_count": 5,
   "metadata": {},
   "outputs": [],
   "source": [
    "_, testDataset = load_next_30min()\n",
    "testLoader = DataLoader(testDataset, batch_size=1024, shuffle=False)\n",
    "model = CNNModel()\n",
    "model.load('./model/')"
   ]
  },
  {
   "cell_type": "code",
   "execution_count": 7,
   "metadata": {},
   "outputs": [
    {
     "name": "stderr",
     "output_type": "stream",
     "text": [
      "100%|██████████| 1684/1684 [05:14<00:00,  5.36it/s]\n"
     ]
    }
   ],
   "source": [
    "model.eval()\n",
    "speed_records = []\n",
    "volume_records = []\n",
    "\n",
    "for batch in tqdm(testLoader):\n",
    "    X, y = batch\n",
    "    with torch.no_grad():\n",
    "        logits = model(X.to(model.device))\n",
    "    label_speeds = np.array(y)[:,0] * 100\n",
    "    label_volumes = np.array(y)[:,1] * 250\n",
    "    pred_speeds = np.array(logits)[:,0] * 100\n",
    "    pred_volumes = np.array(logits)[:,1] * 250\n",
    "\n",
    "    # filt valid indices\n",
    "    indices_speeds = np.where(label_speeds!=0)[0]\n",
    "    indices_volumes = np.where(label_volumes!=0)[0]\n",
    "\n",
    "    label_speeds = label_speeds[indices_speeds]\n",
    "    label_volumes = label_volumes[indices_volumes]\n",
    "    pred_speeds = pred_speeds[indices_speeds]\n",
    "    pred_volumes = pred_volumes[indices_volumes]\n",
    "\n",
    "    speed_records.append((np.abs(pred_speeds - label_speeds) / label_speeds).mean())\n",
    "    volume_records.append((np.abs(pred_volumes - label_volumes) / label_volumes).mean())"
   ]
  },
  {
   "cell_type": "code",
   "execution_count": 8,
   "metadata": {},
   "outputs": [
    {
     "name": "stdout",
     "output_type": "stream",
     "text": [
      "MAPE (speed): 6.93%\n",
      "MAPE (volume): 7.86%\n"
     ]
    }
   ],
   "source": [
    "print(f\"MAPE (speed): {np.array(speed_records).mean():.2%}\")\n",
    "print(f\"MAPE (volume): {np.array(volume_records).mean():.2%}\")"
   ]
  }
 ],
 "metadata": {
  "kernelspec": {
   "display_name": "route-plan",
   "language": "python",
   "name": "python3"
  },
  "language_info": {
   "codemirror_mode": {
    "name": "ipython",
    "version": 3
   },
   "file_extension": ".py",
   "mimetype": "text/x-python",
   "name": "python",
   "nbconvert_exporter": "python",
   "pygments_lexer": "ipython3",
   "version": "3.10.13"
  }
 },
 "nbformat": 4,
 "nbformat_minor": 2
}
